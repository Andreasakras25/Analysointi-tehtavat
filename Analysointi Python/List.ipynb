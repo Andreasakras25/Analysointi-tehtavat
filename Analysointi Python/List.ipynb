{
 "cells": [
  {
   "cell_type": "code",
   "execution_count": 181,
   "metadata": {},
   "outputs": [
    {
     "name": "stdout",
     "output_type": "stream",
     "text": [
      "[[10, 6, 12, 20, 9]]\n"
     ]
    }
   ],
   "source": [
    "#Exercise 3 (EXTRA)\n",
    "import random\n",
    "randomNumbers =[random.sample(range (1, 21), 5)]\n",
    "print (randomNumbers)"
   ]
  },
  {
   "cell_type": "code",
   "execution_count": 182,
   "metadata": {},
   "outputs": [
    {
     "name": "stdout",
     "output_type": "stream",
     "text": [
      "[495, 484, 498, 923, 455]\n",
      "923\n",
      "2855\n"
     ]
    }
   ],
   "source": [
    "#Exercise 2\n",
    "import random\n",
    "thrownDiceNumbers = [random.randint(1, 1000) for _ in range(5)]\n",
    "print (thrownDiceNumbers)\n",
    "\n",
    "High = max(thrownDiceNumbers)\n",
    "print(High)\n",
    "\n",
    "\n",
    "count = sum (thrownDiceNumbers)\n",
    "print(count)\n"
   ]
  },
  {
   "cell_type": "code",
   "execution_count": 183,
   "metadata": {},
   "outputs": [
    {
     "name": "stdout",
     "output_type": "stream",
     "text": [
      "['table', 'chair', 'shelf', 'sofa']\n",
      "['table', 'chair']\n",
      "Found: sofa\n"
     ]
    }
   ],
   "source": [
    "#Exercise 1\n",
    "list = [\"table\", \"chair\", \"shelf\", \"sofa\"]\n",
    "print(list)\n",
    "print(list[:2])\n",
    "\n",
    "for list in list:\n",
    "    if \"sofa\" in list:\n",
    "        print(\"Found:\", list)\n"
   ]
  }
 ],
 "metadata": {
  "kernelspec": {
   "display_name": "Python 3",
   "language": "python",
   "name": "python3"
  },
  "language_info": {
   "codemirror_mode": {
    "name": "ipython",
    "version": 3
   },
   "file_extension": ".py",
   "mimetype": "text/x-python",
   "name": "python",
   "nbconvert_exporter": "python",
   "pygments_lexer": "ipython3",
   "version": "3.13.0"
  }
 },
 "nbformat": 4,
 "nbformat_minor": 2
}
