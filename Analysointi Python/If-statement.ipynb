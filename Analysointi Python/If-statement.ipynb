{
 "cells": [
  {
   "cell_type": "code",
   "execution_count": 4,
   "metadata": {},
   "outputs": [
    {
     "name": "stdout",
     "output_type": "stream",
     "text": [
      "number1 and number2 are not equal.\n",
      "number1 is greater than number2.\n",
      "number1 is greater or equal to number2.\n",
      "number1 is not equal to number2.\n"
     ]
    }
   ],
   "source": [
    "number1 = 6\n",
    "number2 = 5\n",
    "\n",
    "if number1 == number2:\n",
    "    print(\"number1 and number2 are equal.\")\n",
    "else:\n",
    "    print(\"number1 and number2 are not equal.\")\n",
    "\n",
    "if number1 > number2:\n",
    "    print(\"number1 is greater than number2.\")\n",
    "else:\n",
    "    print(\"number1 is not greater than number2.\")\n",
    "\n",
    "if number1 >= number2:\n",
    "    print(\"number1 is greater or equal to number2.\")\n",
    "else:\n",
    "    print(\"number1 is not greater or equal to number2.\")\n",
    "\n",
    "if number1 != number2:\n",
    "    print(\"number1 is not equal to number2.\")\n",
    "else:\n",
    "    print(\"number1 is equal to number2.\")\n"
   ]
  },
  {
   "cell_type": "code",
   "execution_count": 5,
   "metadata": {},
   "outputs": [
    {
     "name": "stdout",
     "output_type": "stream",
     "text": [
      "Not all numbers are equal.\n",
      "Neither number1 and number2 are equal, nor number2 and number3 are equal.\n",
      "number1 is not greater than both number2 and number3.\n",
      "Neither condition is met.\n",
      "number1 is not equal to number2 or number3.\n"
     ]
    }
   ],
   "source": [
    "number1 = 3\n",
    "number2 = 5\n",
    "number3 = 7\n",
    "\n",
    "if number1 == number2 == number3:\n",
    "    print(\"All numbers are equal.\")\n",
    "else:\n",
    "    print(\"Not all numbers are equal.\")\n",
    "\n",
    "if number1 == number2 or number2 == number3:\n",
    "    print(\"Either number1 and number2 are equal or number2 and number3 are equal.\")\n",
    "else:\n",
    "    print(\"Neither number1 and number2 are equal, nor number2 and number3 are equal.\")\n",
    "\n",
    "if number1 > number2 and number1 > number3:\n",
    "    print(\"number1 is greater than both number2 and number3.\")\n",
    "else:\n",
    "    print(\"number1 is not greater than both number2 and number3.\")\n",
    "\n",
    "if number1 > number2:\n",
    "    print(\"number1 is greater than number2.\")\n",
    "elif number2 > number3:\n",
    "    print(\"number2 is greater than number3.\")\n",
    "else:\n",
    "    print(\"Neither condition is met.\")\n",
    "\n",
    "if number1 == number2:\n",
    "    print(\"number1 and number2 are equal.\")\n",
    "elif number1 == number3:\n",
    "    print(\"number1 and number3 are equal.\")\n",
    "else:\n",
    "    print(\"number1 is not equal to number2 or number3.\")"
   ]
  },
  {
   "cell_type": "code",
   "execution_count": 7,
   "metadata": {},
   "outputs": [
    {
     "name": "stdout",
     "output_type": "stream",
     "text": [
      "name1 and name2 are not equal.\n",
      "name1 and name2 are not equal.\n",
      "name1 is neither equal to name2 nor name3.\n"
     ]
    }
   ],
   "source": [
    "name1 = \"Aapo\"\n",
    "name2 = \"Aatu\"\n",
    "name3 = \"Anttu\"\n",
    "\n",
    "if name1 == name2:\n",
    "    print(\"name1 and name2 are equal.\")\n",
    "else:\n",
    "    print(\"name1 and name2 are not equal.\")\n",
    "\n",
    "if name1 != name2:\n",
    "    print(\"name1 and name2 are not equal.\")\n",
    "else:\n",
    "    print(\"name1 and name2 are equal.\")\n",
    "\n",
    "if name1 == name2:\n",
    "    print(\"name1 and name2 are equal.\")\n",
    "elif name1 == name3:\n",
    "    print(\"name1 and name3 are equal.\")\n",
    "else:\n",
    "    print(\"name1 is neither equal to name2 nor name3.\")"
   ]
  }
 ],
 "metadata": {
  "kernelspec": {
   "display_name": "Python 3",
   "language": "python",
   "name": "python3"
  },
  "language_info": {
   "codemirror_mode": {
    "name": "ipython",
    "version": 3
   },
   "file_extension": ".py",
   "mimetype": "text/x-python",
   "name": "python",
   "nbconvert_exporter": "python",
   "pygments_lexer": "ipython3",
   "version": "3.13.0"
  }
 },
 "nbformat": 4,
 "nbformat_minor": 2
}
