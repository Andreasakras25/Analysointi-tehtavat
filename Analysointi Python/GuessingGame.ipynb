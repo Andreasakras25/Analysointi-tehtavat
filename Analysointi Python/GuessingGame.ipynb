{
 "cells": [
  {
   "cell_type": "code",
   "execution_count": 1,
   "metadata": {},
   "outputs": [
    {
     "name": "stdout",
     "output_type": "stream",
     "text": [
      "Welcome to the Guessing Game!\n",
      "Try to guess the secret name.\n",
      "Wrong guess.\n",
      "Hint: The name starts with 'A'\n",
      "Wrong guess.\n",
      "Thanks for playing! Better luck next time.\n"
     ]
    }
   ],
   "source": [
    "def guessing_game():\n",
    "    secret_name = \"Alice\"\n",
    "    attempts = 0 \n",
    "    revealed_letters = \"\"\n",
    "\n",
    "    print(\"Welcome to the Guessing Game!\")\n",
    "    print(\"Try to guess the secret name.\")\n",
    "\n",
    "    while True:\n",
    "        guess = input(\"Enter your guess: \").strip()\n",
    "        attempts += 1\n",
    "\n",
    "        if guess.lower() == secret_name.lower():\n",
    "            print(f\"Congratulations! You've guessed the name in {attempts} attempt(s).\")\n",
    "            break\n",
    "        else:\n",
    "            print(\"Wrong guess.\")\n",
    "\n",
    "            quit_game = input(\"Do you want to quit? (yes/no): \").strip().lower()\n",
    "            if quit_game == \"yes\":\n",
    "                print(\"Thanks for playing! Better luck next time.\")\n",
    "                break\n",
    "\n",
    "            if attempts <= len(secret_name):\n",
    "                revealed_letters = secret_name[:attempts]  \n",
    "                print(f\"Hint: The name starts with '{revealed_letters}'\")\n",
    "            else:\n",
    "                print(f\"Hint: The full name is '{secret_name[:attempts]}'\")\n",
    "\n",
    "guessing_game()\n"
   ]
  }
 ],
 "metadata": {
  "kernelspec": {
   "display_name": "Python 3",
   "language": "python",
   "name": "python3"
  },
  "language_info": {
   "codemirror_mode": {
    "name": "ipython",
    "version": 3
   },
   "file_extension": ".py",
   "mimetype": "text/x-python",
   "name": "python",
   "nbconvert_exporter": "python",
   "pygments_lexer": "ipython3",
   "version": "3.13.0"
  }
 },
 "nbformat": 4,
 "nbformat_minor": 2
}
