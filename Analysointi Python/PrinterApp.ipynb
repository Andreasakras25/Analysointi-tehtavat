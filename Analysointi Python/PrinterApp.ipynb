{
 "cells": [
  {
   "cell_type": "code",
   "execution_count": null,
   "metadata": {},
   "outputs": [
    {
     "name": "stdout",
     "output_type": "stream",
     "text": [
      "Printer App\n",
      "This app is made by: Andreas\n",
      "15\n",
      "8\n",
      "1.6666666666666667\n",
      "2\n"
     ]
    }
   ],
   "source": [
    "print (\"Printer App\")\n",
    "creator=\"Andreas\"\n",
    "print (\"This app is made by: \" + creator)\n",
    "number1=5\n",
    "number2=3\n",
    "#print (number1)\n",
    "#print (number2)\n",
    "multiplication = number1 * number2\n",
    "print (multiplication)\n",
    "addition = number1 + number2\n",
    "print (addition)\n",
    "division = number1 / number2\n",
    "print (division)\n",
    "substraction = number1 - number2\n",
    "print (substraction)\n"
   ]
  }
 ],
 "metadata": {
  "kernelspec": {
   "display_name": "Python 3",
   "language": "python",
   "name": "python3"
  },
  "language_info": {
   "codemirror_mode": {
    "name": "ipython",
    "version": 3
   },
   "file_extension": ".py",
   "mimetype": "text/x-python",
   "name": "python",
   "nbconvert_exporter": "python",
   "pygments_lexer": "ipython3",
   "version": "3.13.0"
  }
 },
 "nbformat": 4,
 "nbformat_minor": 2
}
